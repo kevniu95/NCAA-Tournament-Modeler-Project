{
 "cells": [
  {
   "cell_type": "code",
   "execution_count": 1,
   "metadata": {},
   "outputs": [],
   "source": [
    "import pandas as pd\n",
    "import numpy as np"
   ]
  },
  {
   "cell_type": "code",
   "execution_count": 2,
   "metadata": {},
   "outputs": [],
   "source": [
    "pd.set_option('display.max_columns', None)"
   ]
  },
  {
   "cell_type": "code",
   "execution_count": 3,
   "metadata": {},
   "outputs": [],
   "source": [
    "DATA = '../data/'\n",
    "KAG = DATA + 'kaggle_data/'\n",
    "\n",
    "teams = pd.read_csv(KAG + 'MTeams.csv')\n",
    "reg = pd.read_csv(KAG + 'MRegularSeasonCompactResults.csv')\n",
    "post = pd.read_csv(KAG  + 'MNCAATourneyCompactResults.csv')\n",
    "cities = pd.read_csv(KAG + 'Cities.csv')\n",
    "gameCities = pd.read_csv(KAG + 'MGameCities.csv')\n",
    "ords = pd.read_csv(KAG + 'MMasseyOrdinals.csv')"
   ]
  },
  {
   "cell_type": "markdown",
   "metadata": {},
   "source": [
    "## 1. Construct 'favorite' model"
   ]
  },
  {
   "cell_type": "markdown",
   "metadata": {},
   "source": [
    "### Description: \n",
    "\n",
    "Set of games considered:\n",
    "All regular season games\n",
    "\n",
    "Inputs used:\n",
    "Rating systems + Distance to games"
   ]
  },
  {
   "cell_type": "markdown",
   "metadata": {},
   "source": [
    "### Why favored:\n",
    "\n",
    "-Lots of data - Rating systems and results go back to 2003\n",
    "\n",
    "-\"Compact\" variables - ratings systems are designed to capture a lot of what we would already be trying to model if we were to feature engineer ourselves from the raw data"
   ]
  },
  {
   "cell_type": "code",
   "execution_count": 59,
   "metadata": {},
   "outputs": [],
   "source": [
    "teams = pd.read_csv(KAG + 'MTeams.csv')\n",
    "reg = pd.read_csv(KAG + 'MRegularSeasonCompactResults.csv')\n",
    "post = pd.read_csv(KAG  + 'MRegularSeasonCompactResults.csv')\n",
    "cities = pd.read_csv(KAG + 'Cities.csv')\n",
    "gameCities = pd.read_csv(KAG + 'MGameCities.csv')\n",
    "ords = pd.read_csv(KAG + 'MMasseyOrdinals.csv')"
   ]
  },
  {
   "cell_type": "code",
   "execution_count": 67,
   "metadata": {},
   "outputs": [],
   "source": [
    "assert all(post.columns == reg.columns)\n",
    "all_games = pd.concat([reg, post])\n",
    "all_games['wins'] = 1\n",
    "all_games.rename(columns = {'WTeamID':'Tm1ID', \n",
    "                            'LTeamID':'Tm2ID',\n",
    "                            'WScore' : 'Tm1Score', \n",
    "                            'LScore' : 'Tm2Score', \n",
    "                            'WLoc' : 'Tm1Loc'}, inplace = True)\n",
    "all_games\n",
    "all_games_c = all_games.copy()\n",
    "all_games_c.rename(columns = {'Tm1ID' : 'Tm2ID', \n",
    "                            'Tm2ID' : 'Tm1ID',\n",
    "                            'Tm1Score' : 'Tm2Score', \n",
    "                            'Tm2Score' : 'Tm1Score'\n",
    "                            })\n",
    "\n",
    "all_games_c['Tm1Loc'] = all_games_c['Tm1Loc'].replace({'H': 'A', 'A':'H'})\n",
    "\n",
    "# all_games.groupby(['Year','WTeamID'])\n",
    "# all_games[all_games['WLoc'] == 'A'].groupby(['Season','WTeamID'], as_index = False).sum()[['Season','WTeamID','wins']]\n",
    "# all_games_c[all_games_c['WLoc'] == 'H'].groupby(['Season','WTeamID'], as_index = False).sum()[['Season','WTeamID','wins']]\n",
    "# (all_games_c['WLoc'] == 'H').sum()\n",
    "def checkFlips(all_games, all_games_c):\n",
    "    a = all_games.groupby(['WTeamID'], as_index = False).sum()[['WTeamID','wins']]\n",
    "    b = all_games.groupby(['LTeamID'], as_index = False).sum()[['LTeamID','wins']]\n",
    "    c = all_games.groupby(['LTeamID'], as_index = False).sum()[['LTeamID','wins']]\n",
    "    d = all_games.groupby(['WTeamID'], as_index = False).sum()[['WTeamID','wins']]\n",
    "\n",
    "    e = a.merge(b, suffixes = ['_W','_L'], left_on = 'WTeamID', right_on = 'LTeamID')\n",
    "    f = c.merge(d, suffixes = ['_L','_W'], left_on = 'LTeamID', right_on = 'WTeamID')\n",
    "    e.merge(f, on = ['WTeamID','LTeamID','wins_W','wins_L'])\n",
    "    if len(e) == len(a):\n",
    "        return True\n",
    "    return False"
   ]
  },
  {
   "cell_type": "code",
   "execution_count": 65,
   "metadata": {},
   "outputs": [
    {
     "data": {
      "text/html": [
       "<div>\n",
       "<style scoped>\n",
       "    .dataframe tbody tr th:only-of-type {\n",
       "        vertical-align: middle;\n",
       "    }\n",
       "\n",
       "    .dataframe tbody tr th {\n",
       "        vertical-align: top;\n",
       "    }\n",
       "\n",
       "    .dataframe thead th {\n",
       "        text-align: right;\n",
       "    }\n",
       "</style>\n",
       "<table border=\"1\" class=\"dataframe\">\n",
       "  <thead>\n",
       "    <tr style=\"text-align: right;\">\n",
       "      <th></th>\n",
       "      <th>Season</th>\n",
       "      <th>DayNum</th>\n",
       "      <th>Tm1ID</th>\n",
       "      <th>Tm1Score</th>\n",
       "      <th>Tm2ID</th>\n",
       "      <th>Tm2Score</th>\n",
       "      <th>Tm1Loc</th>\n",
       "      <th>NumOT</th>\n",
       "      <th>wins</th>\n",
       "    </tr>\n",
       "  </thead>\n",
       "  <tbody>\n",
       "    <tr>\n",
       "      <th>176079</th>\n",
       "      <td>2022</td>\n",
       "      <td>132</td>\n",
       "      <td>1463</td>\n",
       "      <td>66</td>\n",
       "      <td>1343</td>\n",
       "      <td>64</td>\n",
       "      <td>N</td>\n",
       "      <td>0</td>\n",
       "      <td>1</td>\n",
       "    </tr>\n",
       "  </tbody>\n",
       "</table>\n",
       "</div>"
      ],
      "text/plain": [
       "        Season  DayNum  Tm1ID  Tm1Score  Tm2ID  Tm2Score Tm1Loc  NumOT  wins\n",
       "176079    2022     132   1463        66   1343        64      N      0     1"
      ]
     },
     "execution_count": 65,
     "metadata": {},
     "output_type": "execute_result"
    }
   ],
   "source": [
    "all_games.tail(1)"
   ]
  },
  {
   "cell_type": "code",
   "execution_count": null,
   "metadata": {},
   "outputs": [],
   "source": []
  }
 ],
 "metadata": {
  "kernelspec": {
   "display_name": "Python 3.8.8 ('base')",
   "language": "python",
   "name": "python3"
  },
  "language_info": {
   "codemirror_mode": {
    "name": "ipython",
    "version": 3
   },
   "file_extension": ".py",
   "mimetype": "text/x-python",
   "name": "python",
   "nbconvert_exporter": "python",
   "pygments_lexer": "ipython3",
   "version": "3.8.8"
  },
  "orig_nbformat": 4,
  "vscode": {
   "interpreter": {
    "hash": "d1b43b8e610c9596ea720f6b0cdedeb023ffc4eb3b612e68dab410f94c3c862d"
   }
  }
 },
 "nbformat": 4,
 "nbformat_minor": 2
}
