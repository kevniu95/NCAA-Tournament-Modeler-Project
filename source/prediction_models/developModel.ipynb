{
 "cells": [
  {
   "cell_type": "code",
   "execution_count": 168,
   "metadata": {},
   "outputs": [],
   "source": [
    "import pickle\n",
    "from typing import List, Dict\n",
    "import pandas as pd\n",
    "import numpy as np\n",
    "import xgboost\n",
    "pd.set_option('display.max_columns', None)"
   ]
  },
  {
   "cell_type": "markdown",
   "metadata": {},
   "source": [
    "### 1. Load dataset, create some new variables and inspect"
   ]
  },
  {
   "cell_type": "code",
   "execution_count": 207,
   "metadata": {},
   "outputs": [
    {
     "data": {
      "text/plain": [
       "Index(['Season', 'DayNum', 'Tm1ID', 'Tm2ID', 'TeamName_x', 'TeamName_y',\n",
       "       'gmCity', 'gmState', 'dist_tm1', 'dist_tm2', 'tm1home', 'DOK_tm1',\n",
       "       'MAS_tm1', 'MOR_tm1', 'PGH_tm1', 'POM_tm1', 'SAG_tm1', 'DOK_tm2',\n",
       "       'MAS_tm2', 'MOR_tm2', 'PGH_tm2', 'POM_tm2', 'SAG_tm2', 'Tm1Score',\n",
       "       'Tm2Score', 'tm1win'],\n",
       "      dtype='object')"
      ]
     },
     "execution_count": 207,
     "metadata": {},
     "output_type": "execute_result"
    }
   ],
   "source": [
    "\"\"\" \n",
    "==============\n",
    "A. Prep dataset\n",
    "==============\n",
    "\"\"\"\n",
    "\n",
    "# 1. Load saved datset\n",
    "with open('../data/my_data/ds1.p', 'rb') as handle:\n",
    "    df = pickle.load(handle)\n",
    "\n",
    "# 2. Create extra fields\n",
    "rs = ['DOK', 'MAS', 'MOR', 'PGH', 'POM', 'SAG']\n",
    "df['tm1win'] = np.where(df['Tm1Score'] > df['Tm2Score'], 1, 0)\n",
    "df['tm1home'] = df['Tm1Loc'].replace({'H' : 1, 'N' : 0.5, 'A' : 0})\n",
    "\n",
    "# 3. Quickly look at subset of fields\n",
    "viewme = df[['Season','DayNum','Tm1ID','Tm2ID','TeamName_x','TeamName_y','gmCity','gmState']\n",
    "    + ['dist_tm1','dist_tm2','tm1home']\n",
    "    + [i + '_tm1' for i in rs] \n",
    "    + [i + '_tm2' for i in rs]\n",
    "    + ['Tm1Score','Tm2Score','tm1win']]\n",
    "viewme.sample(10)\n",
    "viewme.columns"
   ]
  },
  {
   "cell_type": "markdown",
   "metadata": {},
   "source": [
    "### 2. Create train/test split"
   ]
  },
  {
   "cell_type": "code",
   "execution_count": 208,
   "metadata": {},
   "outputs": [
    {
     "data": {
      "text/plain": [
       "['dist_tm1',\n",
       " 'dist_tm2',\n",
       " 'tm1home',\n",
       " 'DOK_tm1',\n",
       " 'MAS_tm1',\n",
       " 'MOR_tm1',\n",
       " 'PGH_tm1',\n",
       " 'POM_tm1',\n",
       " 'SAG_tm1',\n",
       " 'DOK_tm2',\n",
       " 'MAS_tm2',\n",
       " 'MOR_tm2',\n",
       " 'PGH_tm2',\n",
       " 'POM_tm2',\n",
       " 'SAG_tm2']"
      ]
     },
     "execution_count": 208,
     "metadata": {},
     "output_type": "execute_result"
    }
   ],
   "source": [
    "import sklearn\n",
    "from sklearn.preprocessing import OneHotEncoder\n",
    "from sklearn.model_selection import train_test_split\n",
    "\n",
    "\"\"\" \n",
    "==============\n",
    "A. Create train/test\n",
    "==============\n",
    "\"\"\"\n",
    "train, test = train_test_split(df)\n",
    "\n",
    "x_vars = ['dist_tm1','dist_tm2','tm1home'] + [i + '_tm1' for i in rs] + [i + '_tm2' for i in rs]\n",
    "y_var = 'tm1win'\n",
    "\n",
    "x, y = train[x_vars], train[y_var]\n",
    "test_x, test_y = test[x_vars], test[y_var]"
   ]
  },
  {
   "cell_type": "code",
   "execution_count": 145,
   "metadata": {},
   "outputs": [],
   "source": [
    "from sklearn.linear_model import LogisticRegression\n",
    "from sklearn.linear_model import LogisticRegressionCV\n",
    "from sklearn.pipeline import make_pipeline\n",
    "from sklearn.preprocessing import PolynomialFeatures\n",
    "from sklearn.preprocessing import MaxAbsScaler\n",
    "from sklearn.model_selection import cross_val_score\n",
    "from sklearn.metrics import log_loss\n",
    "from sklearn.metrics import make_scorer\n",
    "from sklearn.preprocessing import StandardScaler"
   ]
  },
  {
   "cell_type": "markdown",
   "metadata": {},
   "source": [
    "### 3. Test Logistic Regressions"
   ]
  },
  {
   "cell_type": "code",
   "execution_count": 147,
   "metadata": {},
   "outputs": [
    {
     "name": "stdout",
     "output_type": "stream",
     "text": [
      "Number of coefficients in model is 15\n",
      "-Selected C is [0.04641589]\n",
      "-Best score is -0.5363199771800611\n",
      "\n",
      "Number of coefficients in model is 15\n",
      "-Selected C is [2.7825594]\n",
      "-Best score is -0.5361885958665942\n",
      "\n",
      "Number of coefficients in model is 15\n",
      "-Selected C is [0.04641589]\n",
      "-Best score is -0.5361862635920144\n",
      "\n",
      "Number of coefficients in model is 136\n",
      "-Selected C is [0.35938137]\n",
      "-Best score is -0.5348951931304966\n",
      "\n",
      "Number of coefficients in model is 136\n",
      "-Selected C is [0.04641589]\n",
      "-Best score is -0.5350621140637838\n",
      "\n"
     ]
    }
   ],
   "source": [
    "def testLogisticCV(x, y, pipe1, pipe2, **kwargs):\n",
    "    if not base_model:\n",
    "        base_model = LogisticRegressionCV(cv = 5, scoring = 'neg_log_loss', max_iter = 10000)\n",
    "    \n",
    "    model = make_pipeline(pipe1, pipe2, base_model)\n",
    "    model.fit(x, y)\n",
    "    print(f\"Number of coefficients in model is {len(model[-1].coef_[0])}\")\n",
    "    \n",
    "    print(f\"-Selected C is {model[-1].C_}\")\n",
    "    best_score = max([float(sum(col))/len(col) for col in zip(*model[-1].scores_[1])])\n",
    "    print(f\"-Best score is {-best_score}\\n\")\n",
    "    return model\n",
    "\n",
    "{'cv' : 5, 'scoring' : 'neg_log_loss', 'max_iter' : 10000}\n",
    "test = testLogisticCV(x, y, None, None)\n",
    "test1 = testLogisticCV(x, y, None, MaxAbsScaler())\n",
    "test2 = testLogisticCV(x, y, None, StandardScaler())\n",
    "test3 = testLogisticCV(x, y, PolynomialFeatures(2), MaxAbsScaler())\n",
    "test4 = testLogisticCV(x, y, PolynomialFeatures(2), StandardScaler())"
   ]
  },
  {
   "cell_type": "code",
   "execution_count": 199,
   "metadata": {},
   "outputs": [
    {
     "name": "stdout",
     "output_type": "stream",
     "text": [
      "Fitting 5 folds for each of 30 candidates, totalling 150 fits\n",
      "[CV 4/5] END ................C=1, l1_ratio=0.1;, score=-0.531 total time=  17.1s\n",
      "[CV 3/5] END ................C=1, l1_ratio=0.1;, score=-0.531 total time=  18.3s\n",
      "[CV 1/5] END ................C=1, l1_ratio=0.1;, score=-0.537 total time=  19.2s\n",
      "[CV 2/5] END ................C=1, l1_ratio=0.1;, score=-0.541 total time=  19.4s\n",
      "[CV 1/5] END ...............C=1, l1_ratio=0.25;, score=-0.537 total time=  20.6s\n",
      "[CV 5/5] END ................C=1, l1_ratio=0.1;, score=-0.535 total time=  22.8s\n",
      "[CV 2/5] END ...............C=1, l1_ratio=0.25;, score=-0.541 total time=  23.1s\n",
      "[CV 3/5] END ...............C=1, l1_ratio=0.25;, score=-0.531 total time=  24.4s\n",
      "[CV 4/5] END ...............C=1, l1_ratio=0.25;, score=-0.531 total time=  18.5s\n",
      "[CV 5/5] END ...............C=1, l1_ratio=0.25;, score=-0.535 total time=  22.7s\n",
      "[CV 1/5] END ................C=1, l1_ratio=0.5;, score=-0.537 total time=  20.8s\n",
      "[CV 2/5] END ................C=1, l1_ratio=0.5;, score=-0.541 total time=  23.3s\n",
      "[CV 4/5] END ................C=1, l1_ratio=0.5;, score=-0.531 total time=  23.9s\n",
      "[CV 3/5] END ................C=1, l1_ratio=0.5;, score=-0.531 total time=  29.4s\n",
      "[CV 5/5] END ................C=1, l1_ratio=0.5;, score=-0.535 total time=  28.9s\n",
      "[CV 1/5] END ...............C=1, l1_ratio=0.75;, score=-0.537 total time=  35.3s\n",
      "[CV 4/5] END ...............C=1, l1_ratio=0.75;, score=-0.531 total time=  32.5s\n",
      "[CV 2/5] END ...............C=1, l1_ratio=0.75;, score=-0.541 total time=  39.7s\n",
      "[CV 3/5] END ...............C=1, l1_ratio=0.75;, score=-0.531 total time=  45.6s\n",
      "[CV 5/5] END ...............C=1, l1_ratio=0.75;, score=-0.534 total time=  42.0s\n",
      "[CV 1/5] END ................C=1, l1_ratio=0.9;, score=-0.537 total time=  35.9s\n",
      "[CV 2/5] END ................C=1, l1_ratio=0.9;, score=-0.541 total time=  43.9s\n",
      "[CV 4/5] END ................C=1, l1_ratio=0.9;, score=-0.531 total time=  38.4s\n",
      "[CV 1/5] END ..............C=0.5, l1_ratio=0.1;, score=-0.537 total time=  16.5s\n",
      "[CV 3/5] END ................C=1, l1_ratio=0.9;, score=-0.531 total time= 1.0min\n",
      "[CV 2/5] END ..............C=0.5, l1_ratio=0.1;, score=-0.541 total time=  15.2s\n",
      "[CV 3/5] END ..............C=0.5, l1_ratio=0.1;, score=-0.531 total time=  16.5s\n",
      "[CV 4/5] END ..............C=0.5, l1_ratio=0.1;, score=-0.531 total time=  16.7s\n",
      "[CV 5/5] END ................C=1, l1_ratio=0.9;, score=-0.534 total time=  53.2s\n",
      "[CV 5/5] END ..............C=0.5, l1_ratio=0.1;, score=-0.535 total time=  17.8s\n",
      "[CV 1/5] END .............C=0.5, l1_ratio=0.25;, score=-0.537 total time=  18.2s\n",
      "[CV 2/5] END .............C=0.5, l1_ratio=0.25;, score=-0.541 total time=  15.8s\n",
      "[CV 3/5] END .............C=0.5, l1_ratio=0.25;, score=-0.531 total time=  17.4s\n",
      "[CV 4/5] END .............C=0.5, l1_ratio=0.25;, score=-0.531 total time=  16.2s\n",
      "[CV 5/5] END .............C=0.5, l1_ratio=0.25;, score=-0.534 total time=  16.0s\n",
      "[CV 1/5] END ..............C=0.5, l1_ratio=0.5;, score=-0.537 total time=  18.7s\n",
      "[CV 2/5] END ..............C=0.5, l1_ratio=0.5;, score=-0.541 total time=  16.6s\n",
      "[CV 3/5] END ..............C=0.5, l1_ratio=0.5;, score=-0.530 total time=  19.0s\n",
      "[CV 4/5] END ..............C=0.5, l1_ratio=0.5;, score=-0.531 total time=  18.4s\n",
      "[CV 5/5] END ..............C=0.5, l1_ratio=0.5;, score=-0.534 total time=  19.0s\n",
      "[CV 2/5] END .............C=0.5, l1_ratio=0.75;, score=-0.541 total time=  23.8s\n",
      "[CV 1/5] END .............C=0.5, l1_ratio=0.75;, score=-0.537 total time=  28.1s\n",
      "[CV 3/5] END .............C=0.5, l1_ratio=0.75;, score=-0.530 total time=  23.4s\n",
      "[CV 4/5] END .............C=0.5, l1_ratio=0.75;, score=-0.531 total time=  17.8s\n",
      "[CV 5/5] END .............C=0.5, l1_ratio=0.75;, score=-0.534 total time=  27.3s\n",
      "[CV 1/5] END ..............C=0.5, l1_ratio=0.9;, score=-0.537 total time=  29.2s\n",
      "[CV 3/5] END ..............C=0.5, l1_ratio=0.9;, score=-0.530 total time=  32.9s\n",
      "[CV 4/5] END ..............C=0.5, l1_ratio=0.9;, score=-0.531 total time=  23.0s\n",
      "[CV 2/5] END ..............C=0.5, l1_ratio=0.9;, score=-0.541 total time=  48.3s\n",
      "[CV 1/5] END ..........C=0.33333, l1_ratio=0.1;, score=-0.537 total time=  12.5s\n",
      "[CV 5/5] END ..............C=0.5, l1_ratio=0.9;, score=-0.534 total time=  23.0s\n",
      "[CV 2/5] END ..........C=0.33333, l1_ratio=0.1;, score=-0.541 total time=  11.7s\n",
      "[CV 3/5] END ..........C=0.33333, l1_ratio=0.1;, score=-0.531 total time=  12.4s\n",
      "[CV 4/5] END ..........C=0.33333, l1_ratio=0.1;, score=-0.531 total time=  12.5s\n",
      "[CV 5/5] END ..........C=0.33333, l1_ratio=0.1;, score=-0.534 total time=  13.4s\n",
      "[CV 1/5] END .........C=0.33333, l1_ratio=0.25;, score=-0.537 total time=  12.4s\n",
      "[CV 2/5] END .........C=0.33333, l1_ratio=0.25;, score=-0.541 total time=  11.2s\n",
      "[CV 3/5] END .........C=0.33333, l1_ratio=0.25;, score=-0.530 total time=  12.6s\n",
      "[CV 4/5] END .........C=0.33333, l1_ratio=0.25;, score=-0.531 total time=  12.4s\n",
      "[CV 5/5] END .........C=0.33333, l1_ratio=0.25;, score=-0.534 total time=  11.5s\n",
      "[CV 1/5] END ..........C=0.33333, l1_ratio=0.5;, score=-0.537 total time=  15.3s\n",
      "[CV 2/5] END ..........C=0.33333, l1_ratio=0.5;, score=-0.541 total time=  13.9s\n",
      "[CV 3/5] END ..........C=0.33333, l1_ratio=0.5;, score=-0.530 total time=  15.6s\n",
      "[CV 4/5] END ..........C=0.33333, l1_ratio=0.5;, score=-0.531 total time=  15.2s\n",
      "[CV 5/5] END ..........C=0.33333, l1_ratio=0.5;, score=-0.534 total time=  14.3s\n",
      "[CV 2/5] END .........C=0.33333, l1_ratio=0.75;, score=-0.541 total time=  18.3s\n",
      "[CV 1/5] END .........C=0.33333, l1_ratio=0.75;, score=-0.537 total time=  24.9s\n",
      "[CV 3/5] END .........C=0.33333, l1_ratio=0.75;, score=-0.530 total time=  20.2s\n",
      "[CV 4/5] END .........C=0.33333, l1_ratio=0.75;, score=-0.531 total time=  19.0s\n",
      "[CV 5/5] END .........C=0.33333, l1_ratio=0.75;, score=-0.534 total time=  19.3s\n",
      "[CV 1/5] END ..........C=0.33333, l1_ratio=0.9;, score=-0.537 total time=  29.9s\n",
      "[CV 4/5] END ..........C=0.33333, l1_ratio=0.9;, score=-0.531 total time=  22.9s\n",
      "[CV 3/5] END ..........C=0.33333, l1_ratio=0.9;, score=-0.530 total time=  31.2s\n",
      "[CV 2/5] END ..........C=0.33333, l1_ratio=0.9;, score=-0.541 total time=  37.5s\n",
      "[CV 1/5] END ..............C=0.1, l1_ratio=0.1;, score=-0.537 total time=   5.3s\n",
      "[CV 2/5] END ..............C=0.1, l1_ratio=0.1;, score=-0.541 total time=   5.4s\n",
      "[CV 3/5] END ..............C=0.1, l1_ratio=0.1;, score=-0.530 total time=   5.8s\n",
      "[CV 4/5] END ..............C=0.1, l1_ratio=0.1;, score=-0.531 total time=   5.6s\n",
      "[CV 5/5] END ..............C=0.1, l1_ratio=0.1;, score=-0.535 total time=   5.9s\n",
      "[CV 1/5] END .............C=0.1, l1_ratio=0.25;, score=-0.537 total time=   6.0s\n",
      "[CV 2/5] END .............C=0.1, l1_ratio=0.25;, score=-0.541 total time=   6.2s\n",
      "[CV 3/5] END .............C=0.1, l1_ratio=0.25;, score=-0.530 total time=   6.2s\n",
      "[CV 5/5] END ..........C=0.33333, l1_ratio=0.9;, score=-0.534 total time=  28.2s\n",
      "[CV 4/5] END .............C=0.1, l1_ratio=0.25;, score=-0.531 total time=   6.1s\n",
      "[CV 5/5] END .............C=0.1, l1_ratio=0.25;, score=-0.534 total time=   6.4s\n",
      "[CV 1/5] END ..............C=0.1, l1_ratio=0.5;, score=-0.537 total time=   7.7s\n",
      "[CV 2/5] END ..............C=0.1, l1_ratio=0.5;, score=-0.542 total time=   7.9s\n",
      "[CV 3/5] END ..............C=0.1, l1_ratio=0.5;, score=-0.530 total time=   7.6s\n",
      "[CV 4/5] END ..............C=0.1, l1_ratio=0.5;, score=-0.531 total time=   8.5s\n",
      "[CV 5/5] END ..............C=0.1, l1_ratio=0.5;, score=-0.534 total time=   8.7s\n",
      "[CV 1/5] END .............C=0.1, l1_ratio=0.75;, score=-0.537 total time=  12.0s\n",
      "[CV 2/5] END .............C=0.1, l1_ratio=0.75;, score=-0.542 total time=  12.8s\n",
      "[CV 3/5] END .............C=0.1, l1_ratio=0.75;, score=-0.530 total time=  12.8s\n",
      "[CV 4/5] END .............C=0.1, l1_ratio=0.75;, score=-0.531 total time=  15.3s\n",
      "[CV 5/5] END .............C=0.1, l1_ratio=0.75;, score=-0.534 total time=  14.4s\n",
      "[CV 2/5] END ..............C=0.1, l1_ratio=0.9;, score=-0.542 total time=  19.9s\n",
      "[CV 1/5] END ..............C=0.1, l1_ratio=0.9;, score=-0.537 total time=  24.0s\n",
      "[CV 3/5] END ..............C=0.1, l1_ratio=0.9;, score=-0.530 total time=  18.4s\n",
      "[CV 1/5] END .............C=0.05, l1_ratio=0.1;, score=-0.538 total time=   3.6s\n",
      "[CV 4/5] END ..............C=0.1, l1_ratio=0.9;, score=-0.531 total time=  18.4s\n",
      "[CV 2/5] END .............C=0.05, l1_ratio=0.1;, score=-0.542 total time=   4.0s\n",
      "[CV 3/5] END .............C=0.05, l1_ratio=0.1;, score=-0.531 total time=   4.2s\n",
      "[CV 4/5] END .............C=0.05, l1_ratio=0.1;, score=-0.531 total time=   4.0s\n",
      "[CV 5/5] END .............C=0.05, l1_ratio=0.1;, score=-0.535 total time=   3.8s\n",
      "[CV 1/5] END ............C=0.05, l1_ratio=0.25;, score=-0.538 total time=   4.3s\n",
      "[CV 2/5] END ............C=0.05, l1_ratio=0.25;, score=-0.542 total time=   4.5s\n",
      "[CV 3/5] END ............C=0.05, l1_ratio=0.25;, score=-0.531 total time=   4.9s\n",
      "[CV 4/5] END ............C=0.05, l1_ratio=0.25;, score=-0.531 total time=   4.5s\n",
      "[CV 5/5] END ..............C=0.1, l1_ratio=0.9;, score=-0.534 total time=  20.4s\n",
      "[CV 5/5] END ............C=0.05, l1_ratio=0.25;, score=-0.535 total time=   4.4s\n",
      "[CV 1/5] END .............C=0.05, l1_ratio=0.5;, score=-0.538 total time=   4.8s\n",
      "[CV 2/5] END .............C=0.05, l1_ratio=0.5;, score=-0.542 total time=   4.5s\n",
      "[CV 3/5] END .............C=0.05, l1_ratio=0.5;, score=-0.531 total time=   4.6s\n",
      "[CV 4/5] END .............C=0.05, l1_ratio=0.5;, score=-0.531 total time=   4.8s\n",
      "[CV 5/5] END .............C=0.05, l1_ratio=0.5;, score=-0.535 total time=   4.6s\n",
      "[CV 1/5] END ............C=0.05, l1_ratio=0.75;, score=-0.538 total time=   6.9s\n",
      "[CV 2/5] END ............C=0.05, l1_ratio=0.75;, score=-0.543 total time=   6.8s\n",
      "[CV 4/5] END ............C=0.05, l1_ratio=0.75;, score=-0.532 total time=   7.1s\n",
      "[CV 3/5] END ............C=0.05, l1_ratio=0.75;, score=-0.531 total time=   8.0s\n",
      "[CV 5/5] END ............C=0.05, l1_ratio=0.75;, score=-0.535 total time=   8.1s\n",
      "[CV 2/5] END .............C=0.05, l1_ratio=0.9;, score=-0.543 total time=   8.1s\n",
      "[CV 1/5] END .............C=0.05, l1_ratio=0.9;, score=-0.538 total time=  10.5s\n",
      "[CV 1/5] END .............C=0.01, l1_ratio=0.1;, score=-0.541 total time=   2.5s\n",
      "[CV 3/5] END .............C=0.05, l1_ratio=0.9;, score=-0.531 total time=  12.8s\n",
      "[CV 2/5] END .............C=0.01, l1_ratio=0.1;, score=-0.545 total time=   2.4s\n",
      "[CV 3/5] END .............C=0.01, l1_ratio=0.1;, score=-0.533 total time=   2.5s\n",
      "[CV 4/5] END .............C=0.05, l1_ratio=0.9;, score=-0.532 total time=  11.8s\n",
      "[CV 4/5] END .............C=0.01, l1_ratio=0.1;, score=-0.533 total time=   2.7s\n",
      "[CV 1/5] END ............C=0.01, l1_ratio=0.25;, score=-0.541 total time=   2.4s\n",
      "[CV 5/5] END .............C=0.01, l1_ratio=0.1;, score=-0.538 total time=   3.0s\n",
      "[CV 5/5] END .............C=0.05, l1_ratio=0.9;, score=-0.535 total time=  10.8s\n",
      "[CV 2/5] END ............C=0.01, l1_ratio=0.25;, score=-0.545 total time=   2.6s\n",
      "[CV 3/5] END ............C=0.01, l1_ratio=0.25;, score=-0.533 total time=   2.5s\n",
      "[CV 4/5] END ............C=0.01, l1_ratio=0.25;, score=-0.534 total time=   2.7s\n",
      "[CV 5/5] END ............C=0.01, l1_ratio=0.25;, score=-0.538 total time=   2.9s\n",
      "[CV 1/5] END .............C=0.01, l1_ratio=0.5;, score=-0.540 total time=   2.3s\n",
      "[CV 2/5] END .............C=0.01, l1_ratio=0.5;, score=-0.544 total time=   2.4s\n",
      "[CV 3/5] END .............C=0.01, l1_ratio=0.5;, score=-0.533 total time=   2.4s\n",
      "[CV 4/5] END .............C=0.01, l1_ratio=0.5;, score=-0.533 total time=   2.5s\n",
      "[CV 5/5] END .............C=0.01, l1_ratio=0.5;, score=-0.537 total time=   2.3s\n",
      "[CV 1/5] END ............C=0.01, l1_ratio=0.75;, score=-0.540 total time=   2.2s\n",
      "[CV 2/5] END ............C=0.01, l1_ratio=0.75;, score=-0.544 total time=   2.4s\n",
      "[CV 3/5] END ............C=0.01, l1_ratio=0.75;, score=-0.533 total time=   2.2s\n",
      "[CV 4/5] END ............C=0.01, l1_ratio=0.75;, score=-0.533 total time=   2.2s\n",
      "[CV 5/5] END ............C=0.01, l1_ratio=0.75;, score=-0.537 total time=   2.4s\n",
      "[CV 1/5] END .............C=0.01, l1_ratio=0.9;, score=-0.540 total time=   3.1s\n",
      "[CV 2/5] END .............C=0.01, l1_ratio=0.9;, score=-0.544 total time=   3.2s\n",
      "[CV 3/5] END .............C=0.01, l1_ratio=0.9;, score=-0.533 total time=   3.0s\n",
      "[CV 4/5] END .............C=0.01, l1_ratio=0.9;, score=-0.533 total time=   2.7s\n",
      "[CV 5/5] END .............C=0.01, l1_ratio=0.9;, score=-0.537 total time=   2.3s\n"
     ]
    },
    {
     "data": {
      "text/plain": [
       "Pipeline(steps=[('polynomialfeatures', PolynomialFeatures()),\n",
       "                ('maxabsscaler', MaxAbsScaler()),\n",
       "                ('gridsearchcv',\n",
       "                 GridSearchCV(cv=5,\n",
       "                              estimator=LogisticRegression(max_iter=10000,\n",
       "                                                           penalty='elasticnet',\n",
       "                                                           solver='saga'),\n",
       "                              n_jobs=4,\n",
       "                              param_grid={'C': [1, 0.5, 0.33333, 0.1, 0.05,\n",
       "                                                0.01],\n",
       "                                          'l1_ratio': [0.1, 0.25, 0.5, 0.75,\n",
       "                                                       0.9]},\n",
       "                              scoring='neg_log_loss', verbose=3))])"
      ]
     },
     "execution_count": 199,
     "metadata": {},
     "output_type": "execute_result"
    }
   ],
   "source": [
    "from sklearn.model_selection import GridSearchCV\n",
    "\n",
    "logArgs = {'max_iter' : 10000, 'penalty' : 'elasticnet','solver' : 'saga'}\n",
    "model = LogisticRegression(**logArgs)\n",
    "params = {'C' : [1, 0.5, 0.33333, 0.1, 0.05, 0.01], \n",
    "                'l1_ratio' : [0.1, 0.25, 0.5, 0.75, 0.9]}\n",
    "\n",
    "grid_search = GridSearchCV(model, param_grid = params, scoring = 'neg_log_loss', n_jobs = 4, cv = 5, verbose = 3, refit = True)\n",
    "grid_pipe = make_pipeline(PolynomialFeatures(2), MaxAbsScaler(), grid_search)\n",
    "grid_pipe.fit(x, y)"
   ]
  },
  {
   "cell_type": "code",
   "execution_count": 206,
   "metadata": {},
   "outputs": [
    {
     "name": "stdout",
     "output_type": "stream",
     "text": [
      "{'C': 0.33333, 'l1_ratio': 0.9}\n"
     ]
    },
    {
     "data": {
      "text/plain": [
       "-0.5347910680294838"
      ]
     },
     "execution_count": 206,
     "metadata": {},
     "output_type": "execute_result"
    }
   ],
   "source": [
    "print(grid_pipe['gridsearchcv'].best_params_)\n",
    "# Best logReg parameters:\n",
    "# {'C': 0.33333, 'l1_ratio': 0.9}\n",
    "grid_pipe['gridsearchcv'].best_score_"
   ]
  },
  {
   "cell_type": "code",
   "execution_count": 222,
   "metadata": {},
   "outputs": [
    {
     "data": {
      "text/plain": [
       "0.5352805002782844"
      ]
     },
     "execution_count": 222,
     "metadata": {},
     "output_type": "execute_result"
    }
   ],
   "source": [
    "log_loss(test_y, grid_pipe.predict_proba(test_x))"
   ]
  },
  {
   "cell_type": "markdown",
   "metadata": {},
   "source": [
    "### 4. Test Random Forest Model"
   ]
  },
  {
   "cell_type": "code",
   "execution_count": 158,
   "metadata": {},
   "outputs": [
    {
     "name": "stdout",
     "output_type": "stream",
     "text": [
      "-0.5587977912520894\n",
      "-0.5574449312595464\n",
      "-0.559568884122036\n",
      "-0.5625729288148309\n",
      "-0.5619193013514602\n"
     ]
    }
   ],
   "source": [
    "from sklearn.ensemble import RandomForestClassifier\n",
    "\n",
    "def testRFC(x, y, pipe1, pipe2, base = None, **kwargs):\n",
    "    if not base:\n",
    "        base = RandomForestClassifier(**kwargs)\n",
    "\n",
    "    model1 = make_pipeline(pipe2, pipe2, base)\n",
    "    scores = cross_val_score(model1, x, y, cv = 5, scoring = 'neg_log_loss')\n",
    "    res = scores.sum() / len(scores)\n",
    "    print(res)\n",
    "    return model1\n",
    "\n",
    "rfc_args1 = {'n_estimators' : 100, 'min_samples_split' : 2, 'max_features' : 'sqrt'}\n",
    "test = testRFC(x, y, None, None, **rfc_args1)\n",
    "test1 = testRFC(x, y, None, StandardScaler(), **rfc_args1)\n",
    "test2 = testRFC(x, y, None, MaxAbsScaler(), **rfc_args1)\n",
    "test3 = testRFC(x, y, PolynomialFeatures(2), StandardScaler(), **rfc_args1)\n",
    "test4 = testRFC(x, y, PolynomialFeatures(2), MaxAbsScaler(), **rfc_args1)"
   ]
  },
  {
   "cell_type": "code",
   "execution_count": 160,
   "metadata": {},
   "outputs": [
    {
     "name": "stdout",
     "output_type": "stream",
     "text": [
      "-0.5698499966901054\n",
      "-0.5702145113950527\n",
      "-0.5695731675471662\n"
     ]
    }
   ],
   "source": [
    "rfc_args2 = {'n_estimators' : 100, 'min_samples_split' : 2, 'max_features' : None}\n",
    "test5 = testRFC(x, y, None, None, **rfc_args2)\n",
    "test6 = testRFC(x, y, None, StandardScaler(), **rfc_args2)\n",
    "test7 = testRFC(x, y, None, MaxAbsScaler(), **rfc_args2)"
   ]
  },
  {
   "cell_type": "code",
   "execution_count": 161,
   "metadata": {},
   "outputs": [
    {
     "name": "stdout",
     "output_type": "stream",
     "text": [
      "-0.5496295211045484\n",
      "-0.5495997582630154\n",
      "-0.5494138547961785\n"
     ]
    }
   ],
   "source": [
    "rfc_args3 = {'n_estimators' : 250, 'min_samples_split' : 2, 'max_features' : 'sqrt'}\n",
    "test8 = testRFC(x, y, None, None, **rfc_args3)\n",
    "test9 = testRFC(x, y, None, StandardScaler(), **rfc_args3)\n",
    "test10 = testRFC(x, y, None, MaxAbsScaler(), **rfc_args3)"
   ]
  },
  {
   "cell_type": "code",
   "execution_count": 163,
   "metadata": {},
   "outputs": [
    {
     "name": "stdout",
     "output_type": "stream",
     "text": [
      "-0.5459776933484449\n",
      "-0.5464052434785265\n",
      "-0.5462245924273246\n"
     ]
    }
   ],
   "source": [
    "rfc_args3 = {'n_estimators' : 1000, 'min_samples_split' : 2, 'max_features' : 'sqrt', 'n_jobs' : 2}\n",
    "test8 = testRFC(x, y, None, None, **rfc_args3)\n",
    "test9 = testRFC(x, y, None, StandardScaler(), **rfc_args3)\n",
    "test10 = testRFC(x, y, None, MaxAbsScaler(), **rfc_args3)"
   ]
  },
  {
   "cell_type": "markdown",
   "metadata": {},
   "source": [
    "### 4. Test Boosting Methods"
   ]
  },
  {
   "cell_type": "code",
   "execution_count": 214,
   "metadata": {},
   "outputs": [
    {
     "name": "stdout",
     "output_type": "stream",
     "text": [
      "Fitting 3 folds for each of 27 candidates, totalling 81 fits\n",
      "[CV 2/3] END colsample_bytree=0.6, gamma=1.5, learning_rate=0.05, max_depth=5, min_child_weight=10, subsample=0.5;, score=-0.534 total time= 3.2min\n",
      "[CV 3/3] END colsample_bytree=0.6, gamma=1.5, learning_rate=0.05, max_depth=5, min_child_weight=10, subsample=0.5;, score=-0.534 total time= 3.2min\n",
      "[CV 1/3] END colsample_bytree=0.6, gamma=1.5, learning_rate=0.05, max_depth=5, min_child_weight=10, subsample=0.5;, score=-0.539 total time= 3.2min\n",
      "[CV 1/3] END colsample_bytree=0.6, gamma=1.5, learning_rate=0.05, max_depth=5, min_child_weight=10, subsample=0.6;, score=-0.538 total time= 3.4min\n",
      "[CV 2/3] END colsample_bytree=0.6, gamma=1.5, learning_rate=0.05, max_depth=5, min_child_weight=10, subsample=0.6;, score=-0.533 total time= 3.7min\n",
      "[CV 3/3] END colsample_bytree=0.6, gamma=1.5, learning_rate=0.05, max_depth=5, min_child_weight=10, subsample=0.6;, score=-0.533 total time= 3.7min\n",
      "[CV 1/3] END colsample_bytree=0.6, gamma=1.5, learning_rate=0.05, max_depth=5, min_child_weight=10, subsample=0.7;, score=-0.538 total time= 3.8min\n",
      "[CV 2/3] END colsample_bytree=0.6, gamma=1.5, learning_rate=0.05, max_depth=5, min_child_weight=10, subsample=0.7;, score=-0.533 total time= 3.9min\n",
      "[CV 1/3] END colsample_bytree=0.6, gamma=1.5, learning_rate=0.01, max_depth=5, min_child_weight=10, subsample=0.5;, score=-0.534 total time= 4.5min\n",
      "[CV 2/3] END colsample_bytree=0.6, gamma=1.5, learning_rate=0.01, max_depth=5, min_child_weight=10, subsample=0.5;, score=-0.529 total time= 4.5min\n",
      "[CV 3/3] END colsample_bytree=0.6, gamma=1.5, learning_rate=0.05, max_depth=5, min_child_weight=10, subsample=0.7;, score=-0.533 total time= 4.7min\n",
      "[CV 3/3] END colsample_bytree=0.6, gamma=1.5, learning_rate=0.01, max_depth=5, min_child_weight=10, subsample=0.5;, score=-0.530 total time= 4.6min\n",
      "[CV 1/3] END colsample_bytree=0.6, gamma=1.5, learning_rate=0.01, max_depth=5, min_child_weight=10, subsample=0.6;, score=-0.534 total time= 5.2min\n",
      "[CV 2/3] END colsample_bytree=0.6, gamma=1.5, learning_rate=0.01, max_depth=5, min_child_weight=10, subsample=0.6;, score=-0.529 total time= 5.2min\n",
      "[CV 3/3] END colsample_bytree=0.6, gamma=1.5, learning_rate=0.01, max_depth=5, min_child_weight=10, subsample=0.6;, score=-0.529 total time= 5.2min\n",
      "[CV 1/3] END colsample_bytree=0.6, gamma=1.5, learning_rate=0.01, max_depth=5, min_child_weight=10, subsample=0.7;, score=-0.534 total time= 5.4min\n",
      "[CV 1/3] END colsample_bytree=0.6, gamma=1.5, learning_rate=0.005, max_depth=5, min_child_weight=10, subsample=0.5;, score=-0.538 total time= 4.5min\n",
      "[CV 2/3] END colsample_bytree=0.6, gamma=1.5, learning_rate=0.01, max_depth=5, min_child_weight=10, subsample=0.7;, score=-0.529 total time= 4.8min\n",
      "[CV 3/3] END colsample_bytree=0.6, gamma=1.5, learning_rate=0.01, max_depth=5, min_child_weight=10, subsample=0.7;, score=-0.530 total time= 4.8min\n",
      "[CV 2/3] END colsample_bytree=0.6, gamma=1.5, learning_rate=0.005, max_depth=5, min_child_weight=10, subsample=0.5;, score=-0.534 total time= 4.4min\n",
      "[CV 3/3] END colsample_bytree=0.6, gamma=1.5, learning_rate=0.005, max_depth=5, min_child_weight=10, subsample=0.5;, score=-0.534 total time= 4.2min\n",
      "[CV 1/3] END colsample_bytree=0.6, gamma=1.5, learning_rate=0.005, max_depth=5, min_child_weight=10, subsample=0.6;, score=-0.538 total time= 4.5min\n",
      "[CV 2/3] END colsample_bytree=0.6, gamma=1.5, learning_rate=0.005, max_depth=5, min_child_weight=10, subsample=0.6;, score=-0.534 total time= 4.5min\n",
      "[CV 3/3] END colsample_bytree=0.6, gamma=1.5, learning_rate=0.005, max_depth=5, min_child_weight=10, subsample=0.6;, score=-0.534 total time= 4.5min\n",
      "[CV 1/3] END colsample_bytree=0.6, gamma=2, learning_rate=0.05, max_depth=5, min_child_weight=10, subsample=0.5;, score=-0.540 total time= 3.8min\n",
      "[CV 1/3] END colsample_bytree=0.6, gamma=1.5, learning_rate=0.005, max_depth=5, min_child_weight=10, subsample=0.7;, score=-0.538 total time= 4.6min\n",
      "[CV 2/3] END colsample_bytree=0.6, gamma=1.5, learning_rate=0.005, max_depth=5, min_child_weight=10, subsample=0.7;, score=-0.534 total time= 4.6min\n",
      "[CV 3/3] END colsample_bytree=0.6, gamma=1.5, learning_rate=0.005, max_depth=5, min_child_weight=10, subsample=0.7;, score=-0.534 total time= 4.6min\n",
      "[CV 2/3] END colsample_bytree=0.6, gamma=2, learning_rate=0.05, max_depth=5, min_child_weight=10, subsample=0.5;, score=-0.533 total time= 3.8min\n",
      "[CV 3/3] END colsample_bytree=0.6, gamma=2, learning_rate=0.05, max_depth=5, min_child_weight=10, subsample=0.5;, score=-0.534 total time= 3.8min\n",
      "[CV 1/3] END colsample_bytree=0.6, gamma=2, learning_rate=0.05, max_depth=5, min_child_weight=10, subsample=0.6;, score=-0.538 total time= 4.0min\n",
      "[CV 2/3] END colsample_bytree=0.6, gamma=2, learning_rate=0.05, max_depth=5, min_child_weight=10, subsample=0.6;, score=-0.533 total time= 3.9min\n",
      "[CV 3/3] END colsample_bytree=0.6, gamma=2, learning_rate=0.05, max_depth=5, min_child_weight=10, subsample=0.6;, score=-0.534 total time= 3.6min\n",
      "[CV 1/3] END colsample_bytree=0.6, gamma=2, learning_rate=0.05, max_depth=5, min_child_weight=10, subsample=0.7;, score=-0.538 total time= 3.7min\n",
      "[CV 2/3] END colsample_bytree=0.6, gamma=2, learning_rate=0.05, max_depth=5, min_child_weight=10, subsample=0.7;, score=-0.533 total time= 3.7min\n",
      "[CV 3/3] END colsample_bytree=0.6, gamma=2, learning_rate=0.05, max_depth=5, min_child_weight=10, subsample=0.7;, score=-0.533 total time= 3.7min\n",
      "[CV 1/3] END colsample_bytree=0.6, gamma=2, learning_rate=0.01, max_depth=5, min_child_weight=10, subsample=0.5;, score=-0.534 total time= 3.2min\n",
      "[CV 2/3] END colsample_bytree=0.6, gamma=2, learning_rate=0.01, max_depth=5, min_child_weight=10, subsample=0.5;, score=-0.528 total time= 3.2min\n",
      "[CV 3/3] END colsample_bytree=0.6, gamma=2, learning_rate=0.01, max_depth=5, min_child_weight=10, subsample=0.5;, score=-0.530 total time= 3.1min\n",
      "[CV 1/3] END colsample_bytree=0.6, gamma=2, learning_rate=0.01, max_depth=5, min_child_weight=10, subsample=0.6;, score=-0.534 total time= 3.3min\n",
      "[CV 2/3] END colsample_bytree=0.6, gamma=2, learning_rate=0.01, max_depth=5, min_child_weight=10, subsample=0.6;, score=-0.529 total time= 3.4min\n",
      "[CV 3/3] END colsample_bytree=0.6, gamma=2, learning_rate=0.01, max_depth=5, min_child_weight=10, subsample=0.6;, score=-0.529 total time= 3.4min\n",
      "[CV 1/3] END colsample_bytree=0.6, gamma=2, learning_rate=0.01, max_depth=5, min_child_weight=10, subsample=0.7;, score=-0.534 total time= 3.5min\n",
      "[CV 2/3] END colsample_bytree=0.6, gamma=2, learning_rate=0.01, max_depth=5, min_child_weight=10, subsample=0.7;, score=-0.529 total time= 3.5min\n",
      "[CV 1/3] END colsample_bytree=0.6, gamma=2, learning_rate=0.005, max_depth=5, min_child_weight=10, subsample=0.5;, score=-0.538 total time= 3.4min\n",
      "[CV 3/3] END colsample_bytree=0.6, gamma=2, learning_rate=0.01, max_depth=5, min_child_weight=10, subsample=0.7;, score=-0.530 total time= 3.7min\n",
      "[CV 2/3] END colsample_bytree=0.6, gamma=2, learning_rate=0.005, max_depth=5, min_child_weight=10, subsample=0.5;, score=-0.534 total time= 3.4min\n",
      "[CV 3/3] END colsample_bytree=0.6, gamma=2, learning_rate=0.005, max_depth=5, min_child_weight=10, subsample=0.5;, score=-0.534 total time= 3.4min\n",
      "[CV 1/3] END colsample_bytree=0.6, gamma=2, learning_rate=0.005, max_depth=5, min_child_weight=10, subsample=0.6;, score=-0.538 total time= 3.6min\n",
      "[CV 2/3] END colsample_bytree=0.6, gamma=2, learning_rate=0.005, max_depth=5, min_child_weight=10, subsample=0.6;, score=-0.534 total time= 3.6min\n",
      "[CV 3/3] END colsample_bytree=0.6, gamma=2, learning_rate=0.005, max_depth=5, min_child_weight=10, subsample=0.6;, score=-0.534 total time= 3.6min\n",
      "[CV 1/3] END colsample_bytree=0.6, gamma=2, learning_rate=0.005, max_depth=5, min_child_weight=10, subsample=0.7;, score=-0.538 total time= 3.8min\n",
      "[CV 2/3] END colsample_bytree=0.6, gamma=2, learning_rate=0.005, max_depth=5, min_child_weight=10, subsample=0.7;, score=-0.534 total time= 3.7min\n",
      "[CV 1/3] END colsample_bytree=0.6, gamma=5, learning_rate=0.05, max_depth=5, min_child_weight=10, subsample=0.5;, score=-0.539 total time= 3.1min\n",
      "[CV 3/3] END colsample_bytree=0.6, gamma=2, learning_rate=0.005, max_depth=5, min_child_weight=10, subsample=0.7;, score=-0.534 total time= 3.7min\n",
      "[CV 2/3] END colsample_bytree=0.6, gamma=5, learning_rate=0.05, max_depth=5, min_child_weight=10, subsample=0.5;, score=-0.533 total time= 3.1min\n",
      "[CV 3/3] END colsample_bytree=0.6, gamma=5, learning_rate=0.05, max_depth=5, min_child_weight=10, subsample=0.5;, score=-0.533 total time= 3.1min\n",
      "[CV 1/3] END colsample_bytree=0.6, gamma=5, learning_rate=0.05, max_depth=5, min_child_weight=10, subsample=0.6;, score=-0.538 total time= 3.3min\n",
      "[CV 2/3] END colsample_bytree=0.6, gamma=5, learning_rate=0.05, max_depth=5, min_child_weight=10, subsample=0.6;, score=-0.532 total time= 3.3min\n",
      "[CV 3/3] END colsample_bytree=0.6, gamma=5, learning_rate=0.05, max_depth=5, min_child_weight=10, subsample=0.6;, score=-0.533 total time= 3.3min\n",
      "[CV 1/3] END colsample_bytree=0.6, gamma=5, learning_rate=0.05, max_depth=5, min_child_weight=10, subsample=0.7;, score=-0.537 total time= 3.4min\n",
      "[CV 2/3] END colsample_bytree=0.6, gamma=5, learning_rate=0.05, max_depth=5, min_child_weight=10, subsample=0.7;, score=-0.532 total time= 3.4min\n",
      "[CV 3/3] END colsample_bytree=0.6, gamma=5, learning_rate=0.05, max_depth=5, min_child_weight=10, subsample=0.7;, score=-0.532 total time= 3.4min\n",
      "[CV 1/3] END colsample_bytree=0.6, gamma=5, learning_rate=0.01, max_depth=5, min_child_weight=10, subsample=0.5;, score=-0.534 total time= 3.3min\n",
      "[CV 2/3] END colsample_bytree=0.6, gamma=5, learning_rate=0.01, max_depth=5, min_child_weight=10, subsample=0.5;, score=-0.529 total time= 3.3min\n",
      "[CV 3/3] END colsample_bytree=0.6, gamma=5, learning_rate=0.01, max_depth=5, min_child_weight=10, subsample=0.5;, score=-0.530 total time= 3.3min\n",
      "[CV 1/3] END colsample_bytree=0.6, gamma=5, learning_rate=0.01, max_depth=5, min_child_weight=10, subsample=0.6;, score=-0.534 total time= 3.6min\n",
      "[CV 2/3] END colsample_bytree=0.6, gamma=5, learning_rate=0.01, max_depth=5, min_child_weight=10, subsample=0.6;, score=-0.529 total time= 3.6min\n",
      "[CV 3/3] END colsample_bytree=0.6, gamma=5, learning_rate=0.01, max_depth=5, min_child_weight=10, subsample=0.6;, score=-0.529 total time= 3.7min\n",
      "[CV 1/3] END colsample_bytree=0.6, gamma=5, learning_rate=0.01, max_depth=5, min_child_weight=10, subsample=0.7;, score=-0.534 total time= 3.8min\n",
      "[CV 2/3] END colsample_bytree=0.6, gamma=5, learning_rate=0.01, max_depth=5, min_child_weight=10, subsample=0.7;, score=-0.529 total time= 3.8min\n",
      "[CV 3/3] END colsample_bytree=0.6, gamma=5, learning_rate=0.01, max_depth=5, min_child_weight=10, subsample=0.7;, score=-0.530 total time= 3.8min\n",
      "[CV 1/3] END colsample_bytree=0.6, gamma=5, learning_rate=0.005, max_depth=5, min_child_weight=10, subsample=0.5;, score=-0.538 total time= 3.5min\n",
      "[CV 2/3] END colsample_bytree=0.6, gamma=5, learning_rate=0.005, max_depth=5, min_child_weight=10, subsample=0.5;, score=-0.534 total time= 3.4min\n",
      "[CV 3/3] END colsample_bytree=0.6, gamma=5, learning_rate=0.005, max_depth=5, min_child_weight=10, subsample=0.5;, score=-0.534 total time= 3.4min\n",
      "[CV 1/3] END colsample_bytree=0.6, gamma=5, learning_rate=0.005, max_depth=5, min_child_weight=10, subsample=0.6;, score=-0.538 total time= 3.7min\n",
      "[CV 2/3] END colsample_bytree=0.6, gamma=5, learning_rate=0.005, max_depth=5, min_child_weight=10, subsample=0.6;, score=-0.534 total time= 3.7min\n",
      "[CV 3/3] END colsample_bytree=0.6, gamma=5, learning_rate=0.005, max_depth=5, min_child_weight=10, subsample=0.6;, score=-0.534 total time= 3.7min\n",
      "[CV 1/3] END colsample_bytree=0.6, gamma=5, learning_rate=0.005, max_depth=5, min_child_weight=10, subsample=0.7;, score=-0.538 total time= 3.8min\n",
      "[CV 2/3] END colsample_bytree=0.6, gamma=5, learning_rate=0.005, max_depth=5, min_child_weight=10, subsample=0.7;, score=-0.534 total time= 3.7min\n",
      "[CV 3/3] END colsample_bytree=0.6, gamma=5, learning_rate=0.005, max_depth=5, min_child_weight=10, subsample=0.7;, score=-0.534 total time= 2.9min\n"
     ]
    },
    {
     "data": {
      "text/plain": [
       "Pipeline(steps=[('polynomialfeatures', PolynomialFeatures()),\n",
       "                ('maxabsscaler', MaxAbsScaler()),\n",
       "                ('gridsearchcv',\n",
       "                 GridSearchCV(cv=3,\n",
       "                              estimator=XGBClassifier(base_score=None,\n",
       "                                                      booster=None,\n",
       "                                                      callbacks=None,\n",
       "                                                      colsample_bylevel=None,\n",
       "                                                      colsample_bynode=None,\n",
       "                                                      colsample_bytree=None,\n",
       "                                                      early_stopping_rounds=None,\n",
       "                                                      enable_categorical=False,\n",
       "                                                      eval_metric=None,\n",
       "                                                      gamma=None, gpu_id=No...\n",
       "                                                      missing=nan,\n",
       "                                                      monotone_constraints=None,\n",
       "                                                      n_estimators=500,\n",
       "                                                      n_jobs=None, nthread=1,\n",
       "                                                      num_parallel_tree=None,\n",
       "                                                      predictor=None,\n",
       "                                                      random_state=None,\n",
       "                                                      reg_alpha=None, ...),\n",
       "                              n_jobs=4,\n",
       "                              param_grid={'colsample_bytree': [0.6],\n",
       "                                          'gamma': [1.5, 2, 5],\n",
       "                                          'learning_rate': [0.05, 0.01, 0.005],\n",
       "                                          'max_depth': [5],\n",
       "                                          'min_child_weight': [10],\n",
       "                                          'subsample': [0.5, 0.6, 0.7]},\n",
       "                              scoring='neg_log_loss', verbose=3))])"
      ]
     },
     "execution_count": 214,
     "metadata": {},
     "output_type": "execute_result"
    }
   ],
   "source": [
    "from xgboost import XGBClassifier\n",
    "from sklearn.model_selection import GridSearchCV, RandomizedSearchCV\n",
    "\n",
    "\n",
    "{'subsample': 0.6,\n",
    " 'min_child_weight': 10,\n",
    " 'max_depth': 5,\n",
    " 'learning_rate': 0.01,\n",
    " 'gamma': 2,\n",
    " 'colsample_bytree': 0.6}\n",
    "\n",
    "xgb = XGBClassifier(n_estimators=500, objective='binary:logistic', nthread=1)\n",
    "params = {\n",
    "        'learning_rate' : [0.05, 0.01, 0.005],\n",
    "        'min_child_weight': [10],\n",
    "        'gamma': [1.5, 2, 5],\n",
    "        'subsample': [0.5, 0.6, 0.7],\n",
    "        'colsample_bytree': [0.6],\n",
    "        'max_depth': [5]\n",
    "        }\n",
    "\n",
    "# xgb_search = GridSearchCV(xgb, param_grid = params, scoring = 'neg_log_loss', n_jobs = 4, cv = 3, verbose = 3, refit = True)\n",
    "# xgb_pipe = make_pipeline(PolynomialFeatures(2), MaxAbsScaler(), xgb_search)\n",
    "# xgb_pipe.fit(x, y)"
   ]
  },
  {
   "cell_type": "code",
   "execution_count": 228,
   "metadata": {},
   "outputs": [
    {
     "data": {
      "text/plain": [
       "{'colsample_bytree': 0.6,\n",
       " 'gamma': 2,\n",
       " 'learning_rate': 0.01,\n",
       " 'max_depth': 5,\n",
       " 'min_child_weight': 10,\n",
       " 'subsample': 0.5}"
      ]
     },
     "execution_count": 228,
     "metadata": {},
     "output_type": "execute_result"
    }
   ],
   "source": [
    "xgb_pipe['gridsearchcv'].best_estimator_\n",
    "xgb_pipe['gridsearchcv'].best_score_\n",
    "xgb_pipe['gridsearchcv'].best_params_\n",
    "\n",
    "# Best xgb parameters:\n",
    "# {'colsample_bytree': 0.6,\n",
    "#  'gamma': 2,\n",
    "#  'learning_rate': 0.01,\n",
    "#  'max_depth': 5,\n",
    "#  'min_child_weight': 10,\n",
    "#  'subsample': 0.5}"
   ]
  },
  {
   "cell_type": "code",
   "execution_count": 225,
   "metadata": {},
   "outputs": [
    {
     "data": {
      "text/plain": [
       "0.5324390394396052"
      ]
     },
     "execution_count": 225,
     "metadata": {},
     "output_type": "execute_result"
    }
   ],
   "source": [
    "log_loss(test_y, xgb_pipe.predict_proba(test_x))"
   ]
  },
  {
   "cell_type": "code",
   "execution_count": 231,
   "metadata": {},
   "outputs": [],
   "source": [
    "with open('../data/my_data/models/xgb_model.p', 'wb') as f:\n",
    "    pickle.dump(xgb_pipe, f,  protocol=pickle.HIGHEST_PROTOCOL)"
   ]
  },
  {
   "cell_type": "code",
   "execution_count": null,
   "metadata": {},
   "outputs": [],
   "source": []
  }
 ],
 "metadata": {
  "kernelspec": {
   "display_name": "Python 3.9.12 ('ncaa')",
   "language": "python",
   "name": "python3"
  },
  "language_info": {
   "codemirror_mode": {
    "name": "ipython",
    "version": 3
   },
   "file_extension": ".py",
   "mimetype": "text/x-python",
   "name": "python",
   "nbconvert_exporter": "python",
   "pygments_lexer": "ipython3",
   "version": "3.9.12"
  },
  "orig_nbformat": 4,
  "vscode": {
   "interpreter": {
    "hash": "bee5674010edb9cafde857bf6ed1f796045a81d354f601a762200feb8a30ef17"
   }
  }
 },
 "nbformat": 4,
 "nbformat_minor": 2
}
